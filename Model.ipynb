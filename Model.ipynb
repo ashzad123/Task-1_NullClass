{
 "cells": [
  {
   "cell_type": "markdown",
   "metadata": {},
   "source": [
    "# Step-by-Step Implementation"
   ]
  },
  {
   "cell_type": "markdown",
   "metadata": {},
   "source": [
    "1. Load and Prepare the Dataset"
   ]
  },
  {
   "cell_type": "code",
   "execution_count": 2,
   "metadata": {},
   "outputs": [],
   "source": [
    "import os\n",
    "import numpy as np\n",
    "import cv2\n",
    "from sklearn.model_selection import train_test_split\n",
    "from tensorflow.keras.utils import to_categorical"
   ]
  },
  {
   "cell_type": "code",
   "execution_count": 3,
   "metadata": {},
   "outputs": [],
   "source": [
    "# Function to load UTKFace dataset\n",
    "def load_dataset(dataset_path):\n",
    "    images = []\n",
    "    ages = []\n",
    "    genders = []\n",
    "\n",
    "    for image_name in os.listdir(dataset_path):\n",
    "        image_path = os.path.join(dataset_path, image_name)\n",
    "        if image_path.endswith('.jpg'):\n",
    "            # Split file name by underscore (assuming format is age_gender_identity.jpg)\n",
    "            parts = image_name.split('_')\n",
    "            age = int(parts[0])\n",
    "            gender = int(parts[1])\n",
    "\n",
    "            # Load image and preprocess\n",
    "            image = cv2.imread(image_path)\n",
    "            image = cv2.cvtColor(image, cv2.COLOR_BGR2RGB)  # Convert to RGB (if necessary)\n",
    "            image = cv2.resize(image, (128, 128))  # Resize image to desired dimensions\n",
    "            images.append(image)\n",
    "            ages.append(age)\n",
    "            genders.append(gender)\n",
    "\n",
    "    images = np.array(images)\n",
    "    ages = np.array(ages)\n",
    "    genders = np.array(genders)\n",
    "\n",
    "    return images, ages, genders\n"
   ]
  },
  {
   "cell_type": "code",
   "execution_count": 4,
   "metadata": {},
   "outputs": [],
   "source": [
    "# Replace 'dataset_path' with your actual path to UTKFace dataset\n",
    "dataset_path = 'UTKFace'\n",
    "images, ages, genders = load_dataset(dataset_path)\n"
   ]
  },
  {
   "cell_type": "code",
   "execution_count": 5,
   "metadata": {},
   "outputs": [
    {
     "name": "stdout",
     "output_type": "stream",
     "text": [
      "Number of images: 23708\n",
      "Example image shape: (128, 128, 3)\n",
      "Example age: 100, gender: 0\n"
     ]
    }
   ],
   "source": [
    "# Print dataset statistics\n",
    "print(f\"Number of images: {len(images)}\")\n",
    "print(f\"Example image shape: {images[0].shape}\")\n",
    "print(f\"Example age: {ages[0]}, gender: {genders[0]}\")"
   ]
  },
  {
   "cell_type": "markdown",
   "metadata": {},
   "source": [
    "2. Preprocess the Data"
   ]
  },
  {
   "cell_type": "code",
   "execution_count": 6,
   "metadata": {},
   "outputs": [],
   "source": [
    "# Adjust age based on shirt color (assuming white and black shirts affect age as per your requirements)\n",
    "def adjust_age_based_on_shirt_color(images, ages):\n",
    "    adjusted_ages = []\n",
    "    for i in range(len(images)):\n",
    "        image = images[i]\n",
    "        # Example: Detect shirt color based on pixel intensity threshold (simplified)\n",
    "        avg_color = np.mean(image, axis=(0, 1))\n",
    "        if avg_color[0] > 200 and avg_color[1] > 200 and avg_color[2] > 200:\n",
    "            adjusted_age = 23\n",
    "        elif avg_color[0] < 50 and avg_color[1] < 50 and avg_color[2] < 50:\n",
    "            adjusted_age = 12  # Child\n",
    "        else:\n",
    "            adjusted_age = ages[i]  # No adjustment\n",
    "        adjusted_ages.append(adjusted_age)\n",
    "    return np.array(adjusted_ages)"
   ]
  },
  {
   "cell_type": "code",
   "execution_count": 7,
   "metadata": {},
   "outputs": [],
   "source": [
    "# Apply age adjustment based on shirt color\n",
    "adjusted_ages = adjust_age_based_on_shirt_color(images, ages)\n",
    "\n",
    "# Convert gender to categorical (one-hot encoding)\n",
    "genders_categorical = to_categorical(genders)\n",
    "\n",
    "# Split dataset into training and testing sets\n",
    "X_train, X_test, age_train, age_test, gender_train, gender_test = train_test_split(images, adjusted_ages, genders_categorical, test_size=0.2, random_state=42)\n",
    "\n",
    "# Normalize pixel values to [0, 1]\n",
    "X_train = X_train / 255.0\n",
    "X_test = X_test / 255.0"
   ]
  },
  {
   "cell_type": "code",
   "execution_count": 8,
   "metadata": {},
   "outputs": [
    {
     "name": "stdout",
     "output_type": "stream",
     "text": [
      "X_train shape: (18966, 128, 128, 3), age_train shape: (18966,), gender_train shape: (18966, 2)\n",
      "X_test shape: (4742, 128, 128, 3), age_test shape: (4742,), gender_test shape: (4742, 2)\n"
     ]
    }
   ],
   "source": [
    "# Print shapes of training and testing sets\n",
    "print(f\"X_train shape: {X_train.shape}, age_train shape: {age_train.shape}, gender_train shape: {gender_train.shape}\")\n",
    "print(f\"X_test shape: {X_test.shape}, age_test shape: {age_test.shape}, gender_test shape: {gender_test.shape}\")"
   ]
  },
  {
   "cell_type": "markdown",
   "metadata": {},
   "source": [
    "3. Define and Train the Convolutional Neural Network (CNN)"
   ]
  },
  {
   "cell_type": "code",
   "execution_count": 9,
   "metadata": {},
   "outputs": [],
   "source": [
    "from tensorflow.keras.models import Model\n",
    "from tensorflow.keras.layers import Input, Conv2D, MaxPooling2D, Flatten, Dense, Dropout\n",
    "\n",
    "# Define CNN model architecture\n",
    "input_shape = (128, 128, 3)\n",
    "inp = Input(shape=input_shape)\n",
    "conv1 = Conv2D(32, kernel_size=(3, 3), activation='relu')(inp)\n",
    "pool1 = MaxPooling2D(pool_size=(2, 2))(conv1)\n",
    "conv2 = Conv2D(64, kernel_size=(3, 3), activation='relu')(pool1)\n",
    "pool2 = MaxPooling2D(pool_size=(2, 2))(conv2)\n",
    "flatten = Flatten()(pool2)\n",
    "dense1 = Dense(128, activation='relu')(flatten)\n",
    "drop1 = Dropout(0.5)(dense1)\n",
    "\n",
    "# Output layers for age and gender prediction\n",
    "out_age = Dense(1, name='age_output')(drop1)\n",
    "out_gender = Dense(2, activation='softmax', name='gender_output')(drop1)"
   ]
  },
  {
   "cell_type": "code",
   "execution_count": 10,
   "metadata": {},
   "outputs": [
    {
     "name": "stdout",
     "output_type": "stream",
     "text": [
      "Epoch 1/10\n",
      "593/593 [==============================] - 161s 269ms/step - loss: 309.7268 - age_output_loss: 308.3921 - gender_output_loss: 1.3349 - age_output_mae: 13.2858 - gender_output_accuracy: 0.5738 - val_loss: 171.3873 - val_age_output_loss: 170.7671 - val_gender_output_loss: 0.6202 - val_age_output_mae: 9.7665 - val_gender_output_accuracy: 0.6404\n",
      "Epoch 2/10\n",
      "593/593 [==============================] - 118s 199ms/step - loss: 202.9322 - age_output_loss: 202.2802 - gender_output_loss: 0.6518 - age_output_mae: 10.6964 - gender_output_accuracy: 0.6306 - val_loss: 143.9995 - val_age_output_loss: 143.3764 - val_gender_output_loss: 0.6231 - val_age_output_mae: 8.9314 - val_gender_output_accuracy: 0.6404\n",
      "Epoch 3/10\n",
      "593/593 [==============================] - 93s 156ms/step - loss: 175.0417 - age_output_loss: 174.3926 - gender_output_loss: 0.6490 - age_output_mae: 9.8857 - gender_output_accuracy: 0.6350 - val_loss: 135.2558 - val_age_output_loss: 134.6814 - val_gender_output_loss: 0.5744 - val_age_output_mae: 8.4139 - val_gender_output_accuracy: 0.7362\n",
      "Epoch 4/10\n",
      "593/593 [==============================] - 92s 155ms/step - loss: 159.4121 - age_output_loss: 158.7675 - gender_output_loss: 0.6446 - age_output_mae: 9.4573 - gender_output_accuracy: 0.6397 - val_loss: 124.3596 - val_age_output_loss: 123.7635 - val_gender_output_loss: 0.5962 - val_age_output_mae: 8.1172 - val_gender_output_accuracy: 0.6849\n",
      "Epoch 5/10\n",
      "593/593 [==============================] - 90s 152ms/step - loss: 146.5217 - age_output_loss: 145.8864 - gender_output_loss: 0.6351 - age_output_mae: 9.0676 - gender_output_accuracy: 0.6497 - val_loss: 116.8336 - val_age_output_loss: 116.2682 - val_gender_output_loss: 0.5655 - val_age_output_mae: 7.9153 - val_gender_output_accuracy: 0.7425\n",
      "Epoch 6/10\n",
      "593/593 [==============================] - 93s 157ms/step - loss: 142.3337 - age_output_loss: 141.6894 - gender_output_loss: 0.6444 - age_output_mae: 8.9133 - gender_output_accuracy: 0.6432 - val_loss: 108.9665 - val_age_output_loss: 108.4072 - val_gender_output_loss: 0.5593 - val_age_output_mae: 7.6442 - val_gender_output_accuracy: 0.7569\n",
      "Epoch 7/10\n",
      "593/593 [==============================] - 174s 293ms/step - loss: 131.0143 - age_output_loss: 130.3846 - gender_output_loss: 0.6296 - age_output_mae: 8.5037 - gender_output_accuracy: 0.6566 - val_loss: 104.5145 - val_age_output_loss: 103.9222 - val_gender_output_loss: 0.5922 - val_age_output_mae: 7.5904 - val_gender_output_accuracy: 0.6708\n",
      "Epoch 8/10\n",
      "593/593 [==============================] - 129s 217ms/step - loss: 122.9072 - age_output_loss: 122.2713 - gender_output_loss: 0.6359 - age_output_mae: 8.2331 - gender_output_accuracy: 0.6566 - val_loss: 109.2134 - val_age_output_loss: 108.6404 - val_gender_output_loss: 0.5731 - val_age_output_mae: 7.5906 - val_gender_output_accuracy: 0.7343\n",
      "Epoch 9/10\n",
      "593/593 [==============================] - 381s 644ms/step - loss: 117.6002 - age_output_loss: 116.9732 - gender_output_loss: 0.6269 - age_output_mae: 8.0857 - gender_output_accuracy: 0.6625 - val_loss: 108.0401 - val_age_output_loss: 107.4538 - val_gender_output_loss: 0.5863 - val_age_output_mae: 7.4766 - val_gender_output_accuracy: 0.7185\n",
      "Epoch 10/10\n",
      "593/593 [==============================] - 162s 274ms/step - loss: 116.0484 - age_output_loss: 115.4185 - gender_output_loss: 0.6299 - age_output_mae: 8.0603 - gender_output_accuracy: 0.6575 - val_loss: 105.0963 - val_age_output_loss: 104.5545 - val_gender_output_loss: 0.5419 - val_age_output_mae: 7.5547 - val_gender_output_accuracy: 0.7708\n"
     ]
    }
   ],
   "source": [
    "# Compile the model\n",
    "model = Model(inputs=inp, outputs=[out_age, out_gender])\n",
    "model.compile(optimizer='adam',\n",
    "              loss={'age_output': 'mean_squared_error', 'gender_output': 'categorical_crossentropy'},\n",
    "              metrics={'age_output': 'mae', 'gender_output': 'accuracy'})\n",
    "\n",
    "# Train the model\n",
    "history = model.fit(X_train, {'age_output': age_train, 'gender_output': gender_train},\n",
    "                    validation_data=(X_test, {'age_output': age_test, 'gender_output': gender_test}),\n",
    "                    epochs=10, batch_size=32, verbose=1)"
   ]
  },
  {
   "cell_type": "markdown",
   "metadata": {},
   "source": [
    "4. Evaluate and Test the Model"
   ]
  },
  {
   "cell_type": "code",
   "execution_count": 11,
   "metadata": {},
   "outputs": [
    {
     "name": "stdout",
     "output_type": "stream",
     "text": [
      "149/149 [==============================] - 6s 42ms/step - loss: 105.0963 - age_output_loss: 104.5545 - gender_output_loss: 0.5419 - age_output_mae: 7.5547 - gender_output_accuracy: 0.7708\n",
      "Loss: 105.0963134765625\n",
      "Age Loss: 104.55445861816406\n",
      "Gender Loss: 0.5418500900268555\n",
      "Age MAE: 7.554746627807617\n",
      "Gender Accuracy: 0.7707718014717102\n"
     ]
    }
   ],
   "source": [
    "# Evaluate the model\n",
    "losses = model.evaluate(X_test, {'age_output': age_test, 'gender_output': gender_test})\n",
    "\n",
    "# Print the overall loss and specific metrics if available\n",
    "print(f\"Loss: {losses[0]}\")\n",
    "if len(losses) > 1:\n",
    "    print(f\"Age Loss: {losses[1]}\")\n",
    "if len(losses) > 2:\n",
    "    print(f\"Gender Loss: {losses[2]}\")\n",
    "if len(losses) > 3:\n",
    "    print(f\"Age MAE: {losses[3]}\")\n",
    "if len(losses) > 4:\n",
    "    print(f\"Gender Accuracy: {losses[4]}\")\n"
   ]
  },
  {
   "cell_type": "code",
   "execution_count": 12,
   "metadata": {},
   "outputs": [
    {
     "name": "stderr",
     "output_type": "stream",
     "text": [
      "c:\\Users\\ASHZAD KAMAL\\anaconda3\\envs\\venv\\lib\\site-packages\\keras\\src\\engine\\training.py:3000: UserWarning: You are saving your model as an HDF5 file via `model.save()`. This file format is considered legacy. We recommend using instead the native Keras format, e.g. `model.save('my_model.keras')`.\n",
      "  saving_api.save_model(\n"
     ]
    }
   ],
   "source": [
    "# Assuming `model` is your trained model\n",
    "model.save('Model.h5')\n"
   ]
  },
  {
   "cell_type": "code",
   "execution_count": null,
   "metadata": {},
   "outputs": [],
   "source": []
  }
 ],
 "metadata": {
  "kernelspec": {
   "display_name": "env",
   "language": "python",
   "name": "python3"
  },
  "language_info": {
   "codemirror_mode": {
    "name": "ipython",
    "version": 3
   },
   "file_extension": ".py",
   "mimetype": "text/x-python",
   "name": "python",
   "nbconvert_exporter": "python",
   "pygments_lexer": "ipython3",
   "version": "3.12.3"
  }
 },
 "nbformat": 4,
 "nbformat_minor": 2
}
